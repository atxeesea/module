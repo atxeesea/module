{
 "cells": [
  {
   "cell_type": "code",
   "execution_count": 4,
   "metadata": {},
   "outputs": [
    {
     "name": "stdout",
     "output_type": "stream",
     "text": [
      "[]\n",
      "['Купить хлеб']\n",
      "['[ok] Купить хлеб']\n",
      "[]\n"
     ]
    }
   ],
   "source": [
    "import task_list\n",
    "\n",
    "print(task_list.TaskList)\n",
    "task_list.add_task('Купить хлеб')\n",
    "\n",
    "print(task_list.view_list())\n",
    "task_list.mark_complete('Купить хлеб')\n",
    "\n",
    "print(task_list.view_list())\n",
    "task_list.clear_list()\n",
    "\n",
    "print(task_list.view_list())"
   ]
  },
  {
   "cell_type": "code",
   "execution_count": 9,
   "metadata": {},
   "outputs": [
    {
     "name": "stdout",
     "output_type": "stream",
     "text": [
      "['вфывфыв']\n"
     ]
    }
   ],
   "source": [
    "import task_list\n",
    "\n",
    "ask = int(input('Введите 1 чтобы добавить в список, 2 чтобы отметить задачу выполненной, 3 чтобы очистить задачи в списке, 4 чтобы показать список'))\n",
    "\n",
    "if ask == 1:\n",
    "    task_list.add_task(input('Введите вашу задачу'))\n",
    "elif ask == 2:\n",
    "    task_list.mark_complete(input('Введите задачу, необходимую отметить выполненной: '))\n",
    "elif ask == 3:\n",
    "    task_list.clear_list()\n",
    "elif ask == 4:\n",
    "    print(task_list.view_list())\n",
    "else:\n",
    "    print('Вы ввели неверное число, повторите запрос снова')"
   ]
  }
 ],
 "metadata": {
  "kernelspec": {
   "display_name": "Python 3",
   "language": "python",
   "name": "python3"
  },
  "language_info": {
   "codemirror_mode": {
    "name": "ipython",
    "version": 3
   },
   "file_extension": ".py",
   "mimetype": "text/x-python",
   "name": "python",
   "nbconvert_exporter": "python",
   "pygments_lexer": "ipython3",
   "version": "3.7.8"
  }
 },
 "nbformat": 4,
 "nbformat_minor": 2
}
